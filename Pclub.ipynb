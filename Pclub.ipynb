{
  "cells": [
    {
      "cell_type": "code",
      "execution_count": 159,
      "metadata": {
        "id": "tN7m0IjYSKTc"
      },
      "outputs": [],
      "source": [
        "import pandas as pd\n",
        "import numpy as np\n",
        "import matplotlib.pyplot as plt\n"
      ]
    },
    {
      "cell_type": "code",
      "execution_count": 160,
      "metadata": {
        "colab": {
          "base_uri": "https://localhost:8080/"
        },
        "id": "n_0hFogASl2o",
        "outputId": "854a50be-fcf8-4bad-b5fe-9351aeb7a605"
      },
      "outputs": [
        {
          "output_type": "stream",
          "name": "stdout",
          "text": [
            "   Pregnancies  Glucose  BloodPressure  SkinThickness  Insulin   BMI  \\\n",
            "0            2      138             62             35        0  33.6   \n",
            "1            0       84             82             31      125  38.2   \n",
            "2            0      145              0              0        0  44.2   \n",
            "3            0      135             68             42      250  42.3   \n",
            "4            1      139             62             41      480  40.7   \n",
            "\n",
            "   DiabetesPedigreeFunction  Age  Outcome  \n",
            "0                     0.127   47        1  \n",
            "1                     0.233   23        0  \n",
            "2                     0.630   31        1  \n",
            "3                     0.365   24        1  \n",
            "4                     0.536   21        0  \n"
          ]
        }
      ],
      "source": [
        "\n",
        "x=pd.read_csv('diabetes-dataset.csv')\n",
        "\n",
        "print(x.head())\n",
        "\n"
      ]
    },
    {
      "cell_type": "code",
      "execution_count": 161,
      "metadata": {
        "colab": {
          "base_uri": "https://localhost:8080/"
        },
        "id": "Z7crs-JOSyIm",
        "outputId": "bb6109b2-b45f-470b-d436-16e6cbd1d6c7"
      },
      "outputs": [
        {
          "output_type": "stream",
          "name": "stdout",
          "text": [
            "<class 'pandas.core.series.Series'>\n",
            "   Pregnancies  Glucose  BloodPressure  SkinThickness  Insulin   BMI  \\\n",
            "0            2      138             62             35        0  33.6   \n",
            "1            0       84             82             31      125  38.2   \n",
            "2            0      145              0              0        0  44.2   \n",
            "3            0      135             68             42      250  42.3   \n",
            "4            1      139             62             41      480  40.7   \n",
            "\n",
            "   DiabetesPedigreeFunction  Age  \n",
            "0                     0.127   47  \n",
            "1                     0.233   23  \n",
            "2                     0.630   31  \n",
            "3                     0.365   24  \n",
            "4                     0.536   21  \n",
            "<class 'numpy.ndarray'>\n",
            "(1800, 8)\n",
            "(1800,)\n"
          ]
        }
      ],
      "source": [
        "\n",
        "x_train=x.iloc[:1800,:]\n",
        "x_train=x_train.drop(\"Outcome\",axis=1)\n",
        "x_test=x.iloc[1800:,:]\n",
        "x_test=x_test.drop(\"Outcome\",axis=1)\n",
        "y=x['Outcome']\n",
        "y_train=y.iloc[:1800]\n",
        "y_test=y.iloc[1800:]\n",
        "\n",
        "print(type(y))\n",
        "\n",
        "\n",
        "\n",
        "print(x_train.head())\n",
        "x_train=x_train.values\n",
        "x_test=x_test.values\n",
        "y_train=y_train.values\n",
        "y_test=y_test.values\n",
        "print(type(x_train))\n",
        "print(x_train.shape)\n",
        "print(y_train.shape)\n",
        "y_train=y_train.reshape(1,x_train.shape[0])\n",
        "y_test=y_test.reshape(1,x_test.shape[0])"
      ]
    },
    {
      "cell_type": "code",
      "execution_count": 162,
      "metadata": {
        "colab": {
          "base_uri": "https://localhost:8080/"
        },
        "id": "ZQfBZEctTrUn",
        "outputId": "fefb9f33-31c0-4b08-ac3d-284c1642e786"
      },
      "outputs": [
        {
          "output_type": "stream",
          "name": "stdout",
          "text": [
            "(8, 1800)\n",
            "(1, 1800)\n"
          ]
        }
      ],
      "source": [
        "x_train=x_train.T\n",
        "x_test=x_test.T\n",
        "\n",
        "\n",
        "\n",
        "\n",
        "\n",
        "print(x_train.shape)\n",
        "print(y_train.shape)\n"
      ]
    },
    {
      "cell_type": "code",
      "execution_count": 163,
      "metadata": {
        "id": "kkBMbHKjUa_c"
      },
      "outputs": [],
      "source": [
        "def sigmoid(x):\n",
        "  z=1/(1+np.exp(-x))\n",
        "\n",
        "  return z\n",
        "  "
      ]
    },
    {
      "cell_type": "code",
      "execution_count": 164,
      "metadata": {
        "id": "6GZkTmFYYlSb"
      },
      "outputs": [],
      "source": [
        "def compute_cost(x,y,a,i):\n",
        "  m1 = x_train.shape[1]\n",
        "  n1 = x_train.shape[0]\n",
        "  \n",
        "\n",
        "  cost = -(1/m1)*np.sum( y*np.log(a) + (1-y)*np.log(1-a))\n",
        " \n",
        "        \n",
        "  if(i%(iterations/10) == 0):\n",
        "    print(\"Cost in the \", i, \"iteration is : \", cost)\n",
        "  \n",
        "  return cost\n",
        "\n",
        "\n"
      ]
    },
    {
      "cell_type": "code",
      "execution_count": 165,
      "metadata": {
        "id": "O3MHD5XKZhho"
      },
      "outputs": [],
      "source": [
        "def model(x, y, learning_rate, itr):\n",
        "    \n",
        "    n,m=x_train.shape\n",
        "\n",
        "    w=np.zeros((n,1))\n",
        "    b=0\n",
        "    \n",
        "    \n",
        "    \n",
        "    for i in range(itr):\n",
        "        \n",
        "        z=sigmoid(np.dot(w.T, x) + b)\n",
        "        \n",
        "       \n",
        "        \n",
        "        \n",
        "        \n",
        "        cost=compute_cost(x,y,z,i)\n",
        "        \n",
        "        dw =(1/m)*np.dot(z-y, x.T)\n",
        "        \n",
        "        \n",
        "        db =(1/m)*np.sum(z-y)\n",
        "        \n",
        "        w =w - learning_rate*dw.T\n",
        "\n",
        "\n",
        "        b =b - learning_rate*db\n",
        "\n",
        "        \n",
        "\n",
        "        \n",
        "        \n",
        "        \n",
        "        \n",
        "    return w, b"
      ]
    },
    {
      "cell_type": "code",
      "execution_count": 166,
      "metadata": {
        "colab": {
          "base_uri": "https://localhost:8080/"
        },
        "id": "26pnJ3n_Zlzj",
        "outputId": "e205721d-ddf6-47c0-f082-f07fb801cf9a"
      },
      "outputs": [
        {
          "output_type": "stream",
          "name": "stdout",
          "text": [
            "Cost in the  0 iteration is :  0.6931471805599452\n",
            "Cost in the  47500 iteration is :  0.5916251645880635\n",
            "Cost in the  95000 iteration is :  0.5783610824439187\n",
            "Cost in the  142500 iteration is :  0.5668961369075413\n",
            "Cost in the  190000 iteration is :  0.5569891352727424\n",
            "Cost in the  237500 iteration is :  0.5484214866124031\n",
            "Cost in the  285000 iteration is :  0.5409999023011617\n",
            "Cost in the  332500 iteration is :  0.5345565793844096\n",
            "Cost in the  380000 iteration is :  0.5289477205877683\n",
            "Cost in the  427500 iteration is :  0.5240511543110565\n"
          ]
        }
      ],
      "source": [
        "iterations = 475000\n",
        "learning_rate = 0.00026\n",
        "m, c = model(x_train, y_train, learning_rate = learning_rate, itr = iterations)"
      ]
    },
    {
      "cell_type": "code",
      "execution_count": 167,
      "metadata": {
        "id": "gRR6jrdLcFVs"
      },
      "outputs": [],
      "source": [
        "def accuracy(X, Y, W, B):\n",
        "    \n",
        "    Z = np.dot(W.T, X) + B\n",
        "    A = sigmoid(Z)\n",
        "    \n",
        "    A = A > 0.5\n",
        "    \n",
        "    A = np.array(A)\n",
        "    \n",
        "    acc = (1 - np.sum(np.absolute(A - Y))/Y.shape[1])*100\n",
        "    \n",
        "    print(\"Accuracy of the model is : \", round(acc, 2), \"%\")"
      ]
    },
    {
      "cell_type": "code",
      "execution_count": 168,
      "metadata": {
        "colab": {
          "base_uri": "https://localhost:8080/"
        },
        "id": "VfLK9aKjRDMY",
        "outputId": "8b729133-2a11-43c0-ef7b-f16bd9d6e9ef"
      },
      "outputs": [
        {
          "output_type": "stream",
          "name": "stdout",
          "text": [
            "(200, 1)\n"
          ]
        }
      ],
      "source": [
        "print(y_test.T.shape)"
      ]
    },
    {
      "cell_type": "code",
      "execution_count": 169,
      "metadata": {
        "colab": {
          "base_uri": "https://localhost:8080/"
        },
        "id": "a6zDzF0ycJ2O",
        "outputId": "5ff64eb0-7a10-4b4d-ac28-455997144306"
      },
      "outputs": [
        {
          "output_type": "stream",
          "name": "stdout",
          "text": [
            "Accuracy of the model is :  79.0 %\n"
          ]
        }
      ],
      "source": [
        "accuracy(x_test,y_test,W,B)"
      ]
    }
  ],
  "metadata": {
    "accelerator": "TPU",
    "colab": {
      "name": "Pclub.ipynb",
      "provenance": []
    },
    "gpuClass": "standard",
    "kernelspec": {
      "display_name": "Python 3",
      "name": "python3"
    },
    "language_info": {
      "name": "python"
    }
  },
  "nbformat": 4,
  "nbformat_minor": 0
}